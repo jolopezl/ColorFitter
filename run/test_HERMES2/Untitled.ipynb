{
 "cells": [
  {
   "cell_type": "code",
   "execution_count": 9,
   "metadata": {},
   "outputs": [
    {
     "name": "stdout",
     "output_type": "stream",
     "text": [
      "(int) 0\n"
     ]
    }
   ],
   "source": [
    "gROOT->LoadMacro(\"../../../../RootUtils/my-atlasrootstyle/AtlasStyle.C\")"
   ]
  },
  {
   "cell_type": "code",
   "execution_count": 10,
   "metadata": {},
   "outputs": [
    {
     "name": "stdout",
     "output_type": "stream",
     "text": [
      "\n",
      "Applying ATLAS style settings...\n",
      "\n"
     ]
    }
   ],
   "source": [
    "SetAtlasStyle()"
   ]
  },
  {
   "cell_type": "code",
   "execution_count": 11,
   "metadata": {},
   "outputs": [],
   "source": [
    "// read the input data\n",
    "auto fref = TFile::Open(\"OutputROOT.20200707.BL30_piplus.root\");\n",
    "auto tg_lp_ref = (TGraphErrors*)fref->Get(\"tg_lp\");\n",
    "auto f = TFile::Open(\"OutputROOT.20200721.BL30LCNNnoC2piplus.root\");\n",
    "auto tg_lp = (TGraphErrors*)f->Get(\"tg_lp\");\n",
    "auto tg_c1 = (TGraphErrors*)f->Get(\"tg_c1\");\n",
    "// auto tg_c2 = (TGraphErrors*)f->Get(\"tg_c2\");\n",
    "// setup the plot"
   ]
  },
  {
   "cell_type": "code",
   "execution_count": 13,
   "metadata": {},
   "outputs": [],
   "source": [
    "double A[4] = { 4.0026, 20.1797, 83.7980, 131.2930 };\n",
    "std::vector<TGraphErrors*> tg;\n",
    "for (int i = 0; i < 4; ++i) {\n",
    "  tg.push_back(new TGraphErrors(4));\n",
    "  for (int j = 0; j < 4; ++j) {\n",
    "    double x = 0;\n",
    "    double yval = 0;\n",
    "    double yerr = 0;\n",
    "    x = tg_lp->GetX()[j];\n",
    "    yval = tg_lp->GetY()[j];\n",
    "    yval += tg_c1->GetY()[j] * std::pow(A[i], 1. / 3.);\n",
    "    // yval += tg_c2->GetY()[j] * std::pow(A[i], 2. / 3.);\n",
    "    yerr += std::pow(tg_lp->GetEY()[j], 2);\n",
    "    yerr += std::pow(tg_c1->GetEY()[j] * std::pow(A[i], 1. / 3.), 2);\n",
    "    // yerr += std::pow(tg_c2->GetEY()[j] * std::pow(A[i], 2. / 3.), 2);\n",
    "    yerr += 2 * std::pow(A[i], 1./3.) * tg_lp->GetEY()[j] * tg_c1->GetEY()[j] * (-0.950);\n",
    "    // yerr += 2 * std::pow(A[i], 2./3.) * tg_lp->GetEY()[j] * tg_c2->GetEY()[j] * (0.6);\n",
    "    // yerr += 2 * std::pow(A[i], 1./3.) * std::pow(A[i], 2./3.) * tg_c1->GetEY()[j] * tg_c2->GetEY()[j] * (-0.950);\n",
    "    yerr = std::sqrt(yerr);\n",
    "    tg[i]->SetPoint(j, x, yval);\n",
    "    tg[i]->SetPointError(j, 0, yerr);\n",
    "//     std::cout << i << \", point \" << j << \", x = \" << x << \", y = \" << yval << \", yerr = \" << yerr <<std::endl;\n",
    "  }\n",
    "}"
   ]
  },
  {
   "cell_type": "code",
   "execution_count": 14,
   "metadata": {},
   "outputs": [],
   "source": [
    "TF1 *f1 = new TF1(\"f1\", \"(([1]+2*([2]-[3]))/(2*[0]))*x*(log(1/(x*x))-1+x*x)/(1-x*x)\", 0, 1);\n",
    "f1->SetParName(0, \"KAPPA\");\n",
    "f1->SetParName(1, \"MP\");\n",
    "f1->SetParName(2, \"NU\");\n",
    "f1->SetParName(3, \"EPS\");\n",
    "f1->SetParameter(0, 1.0);\n",
    "f1->SetParameter(1, 0.938);\n",
    "f1->SetParameter(2, 13.1);\n",
    "f1->SetParameter(3, 0.0);\n",
    "// f1->FixParameter(0, 1.0);\n",
    "f1->FixParameter(1, 0.938);\n",
    "f1->FixParameter(2, 13.1);\n",
    "// f1->FixParameter(3, 2.4);"
   ]
  },
  {
   "cell_type": "code",
   "execution_count": 16,
   "metadata": {},
   "outputs": [
    {
     "name": "stdout",
     "output_type": "stream",
     "text": [
      " FCN=23.6994 FROM MIGRAD    STATUS=CONVERGED      33 CALLS          34 TOTAL\n",
      "                     EDM=3.89172e-07    STRATEGY= 1      ERROR MATRIX ACCURATE \n",
      "  EXT PARAMETER                                   STEP         FIRST   \n",
      "  NO.   NAME      VALUE            ERROR          SIZE      DERIVATIVE \n",
      "   1  KAPPA        9.19315e-01   1.71580e+00   1.13373e-04  -1.89071e-02\n",
      "   2  MP           9.38000e-01     fixed    \n",
      "   3  NU           1.31000e+01     fixed    \n",
      "   4  EPS         -7.07878e-01   2.66469e+01   1.75888e-03  -1.21743e-03\n",
      " FCN=8.53477 FROM MIGRAD    STATUS=CONVERGED      26 CALLS          27 TOTAL\n",
      "                     EDM=7.82235e-10    STRATEGY= 1      ERROR MATRIX ACCURATE \n",
      "  EXT PARAMETER                                   STEP         FIRST   \n",
      "  NO.   NAME      VALUE            ERROR          SIZE      DERIVATIVE \n",
      "   1  KAPPA        9.20634e-01   4.38365e+00   2.80965e-04   2.10542e-04\n",
      "   2  MP           9.38000e-01     fixed    \n",
      "   3  NU           1.31000e+01     fixed    \n",
      "   4  EPS         -6.87270e-01   6.78818e+01   4.37587e-03   1.36088e-05\n",
      " FCN=9.45675 FROM MIGRAD    STATUS=CONVERGED      33 CALLS          34 TOTAL\n",
      "                     EDM=1.44965e-09    STRATEGY= 1      ERROR MATRIX ACCURATE \n",
      "  EXT PARAMETER                                   STEP         FIRST   \n",
      "  NO.   NAME      VALUE            ERROR          SIZE      DERIVATIVE \n",
      "   1  KAPPA        9.28964e-01   3.61544e+00   2.10489e-04   4.03835e-04\n",
      "   2  MP           9.38000e-01     fixed    \n",
      "   3  NU           1.31000e+01     fixed    \n",
      "   4  EPS         -5.53608e-01   5.49636e+01   3.19905e-03   2.65778e-05\n",
      " FCN=6.32603 FROM MIGRAD    STATUS=CONVERGED      28 CALLS          29 TOTAL\n",
      "                     EDM=1.42765e-09    STRATEGY= 1      ERROR MATRIX ACCURATE \n",
      "  EXT PARAMETER                                   STEP         FIRST   \n",
      "  NO.   NAME      VALUE            ERROR          SIZE      DERIVATIVE \n",
      "   1  KAPPA        9.27917e-01   3.23614e+00   1.19357e-04   5.94860e-04\n",
      "   2  MP           9.38000e-01     fixed    \n",
      "   3  NU           1.31000e+01     fixed    \n",
      "   4  EPS         -5.69460e-01   4.93082e+01   1.80839e-03   3.90510e-05\n",
      " FCN=2.81237 FROM MIGRAD    STATUS=CONVERGED      28 CALLS          29 TOTAL\n",
      "                     EDM=2.24171e-07    STRATEGY= 1      ERROR MATRIX ACCURATE \n",
      "  EXT PARAMETER                                   STEP         FIRST   \n",
      "  NO.   NAME      VALUE            ERROR          SIZE      DERIVATIVE \n",
      "   1  KAPPA        9.32057e-01   4.14123e+00   9.66604e-05   6.45794e-03\n",
      "   2  MP           9.38000e-01     fixed    \n",
      "   3  NU           1.31000e+01     fixed    \n",
      "   4  EPS         -5.05254e-01   6.25311e+01   1.49251e-03   4.27677e-04\n"
     ]
    }
   ],
   "source": [
    "tg_lp_ref->Fit(\"f1\");\n",
    "for (int i = 0; i < 4; ++i) { tg[i]->Fit(\"f1\"); }"
   ]
  },
  {
   "cell_type": "code",
   "execution_count": 17,
   "metadata": {},
   "outputs": [],
   "source": [
    "int colors[4] = {kAzure,kViolet,kPink,kOrange};\n",
    "for (int i = 0; i < 4; ++i) {\n",
    "  tg[i]->SetMarkerStyle(i + 21);\n",
    "  tg[i]->SetMarkerColor(colors[i]);\n",
    "  tg[i]->SetLineColor(colors[i]);\n",
    "  tg[i]->SetLineWidth(2);\n",
    "}\n",
    "\n",
    "tg_lp_ref->SetTitle(\";z_{h};L_{c} (fm)\");\n",
    "tg_lp_ref->SetLineWidth(2);\n",
    "tg_lp_ref->GetYaxis()->SetRangeUser(0,15);\n",
    "tg_lp_ref->GetXaxis()->SetLimits(0,1);\n",
    "tg_lp_ref->GetXaxis()->SetNdivisions(505);"
   ]
  },
  {
   "cell_type": "code",
   "execution_count": 18,
   "metadata": {},
   "outputs": [],
   "source": [
    "TCanvas* cnv_lc = new TCanvas(\"cnv_lc\", \"cnv_lc\", 800, 600);\n",
    "tg_lp_ref->Draw(\"APEL\");\n",
    "tg[0]->Draw(\"PLSAME\");\n",
    "tg[1]->Draw(\"PLSAME\");\n",
    "tg[2]->Draw(\"PLSAME\");\n",
    "tg[3]->Draw(\"PLSAME\");\n",
    "tg_lp_ref->Draw(\"PSAME\");\n",
    "\n",
    "TLegend* leg = new TLegend(0.2, 0.7, 0.35, 0.92);\n",
    "leg->SetTextFont(42);\n",
    "leg->SetTextSize(0.03);\n",
    "leg->SetBorderSize(0);\n",
    "leg->SetFillStyle(0);\n",
    "leg->AddEntry(tg_lp_ref,\"L_{c} - Baseline model\",\"pel\");\n",
    "leg->AddEntry(tg[0],\"L_{c}(He)\",\"pel\");\n",
    "leg->AddEntry(tg[1],\"L_{c}(Ne)\",\"pel\");\n",
    "leg->AddEntry(tg[2],\"L_{c}(Kr)\",\"pel\");\n",
    "leg->AddEntry(tg[3],\"L_{c}(Fe)\",\"pel\");\n",
    "leg->Draw();"
   ]
  },
  {
   "cell_type": "code",
   "execution_count": 20,
   "metadata": {},
   "outputs": [
    {
     "name": "stderr",
     "output_type": "stream",
     "text": [
      "Info in <TCanvas::Print>: pdf file cnv_lc.pdf has been created\n"
     ]
    }
   ],
   "source": [
    "cnv_lc->SaveAs(\"cnv_lc.pdf\")"
   ]
  },
  {
   "cell_type": "code",
   "execution_count": null,
   "metadata": {},
   "outputs": [],
   "source": []
  }
 ],
 "metadata": {
  "kernelspec": {
   "display_name": "ROOT C++",
   "language": "c++",
   "name": "root"
  },
  "language_info": {
   "codemirror_mode": "text/x-c++src",
   "file_extension": ".C",
   "mimetype": " text/x-c++src",
   "name": "c++"
  }
 },
 "nbformat": 4,
 "nbformat_minor": 4
}
